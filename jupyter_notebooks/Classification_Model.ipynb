{
  "cells": [
    {
      "cell_type": "markdown",
      "metadata": {
        "id": "0aStgWSO0E0E"
      },
      "source": [
        "# **Modelling Notebook: Film Success Prediction**"
      ]
    },
    {
      "cell_type": "markdown",
      "metadata": {
        "id": "1eLEkw5O0ECa"
      },
      "source": [
        "\n",
        "\n",
        "This notebook builds a machine learning classification model to predict whether a film will achieve \"High Performer\" status based on production attributes, financial metrics, and team composition.\n",
        "\n",
        "**Aim: Predicting High-Performing Films:**\n",
        "* Predict film performance using a single classification target (films above or below the median revenue).\n",
        "\n",
        "### Overview Modelling and Evaluation\n",
        "\n",
        "**Key Objectives**\n",
        "\n",
        "* Build a classification model to predict film success (High Performer: Revenue > median)\n",
        "* Engineer preprocessing pipeline with feature encoding and scaling\n",
        "* Train Logistic Regression model with cross-validation\n",
        "* Evaluate model performance and feature importance\n",
        "* Generate success probability scores and risk level classifications\n",
        "* Create benchmark comparisons for predicted high-performer films\n",
        "\n",
        "**Inputs**\n",
        "\n",
        "* Data/PROCESSED/movies_ready_for_EDA.csv (processed dataset from ETL)\n",
        "* Features: Budget, Primary_genre, Language_full, Runtime, Primary_production_country, Primary_production_company, Avg_actor_frequency, Has_known_lead, Lead_actor_recurrence_rate, Primary_actor_is_frequent\n",
        "* Target: Revenue (to create binary High Performer classification)\n",
        "\n",
        "**Outputs**\n",
        "\n",
        "* Trained Logistic Regression model with preprocessing pipeline (saved as .pkl)\n",
        "* Model performance metrics (accuracy, precision, recall, AUC-ROC)\n",
        "* Feature importance analysis\n",
        "* Predictions on test set with success probability and risk levels\n",
        "* Visualisations: Confusion matrix, ROC curve, feature importance\n",
        "* Summary Insights and performance reports:\n",
        "    - reports/benchmark_comparison.csv\n",
        "    - feature_importance.csv\n",
        "    - model_metrics.csv\n",
        "    - model_predictions.csv\n",
        "\n",
        "---\n",
        "\n",
        "\n",
        "**Additional Comments**\n",
        "\n",
        "* Language feature heavily skewed to English, converted to binary (English vs Non-English)\n",
        "* Missing values handled via imputation pipeline\n",
        "* Categorical features one-hot encoded\n",
        "* Numeric features standardised for model stability\n",
        "* Classification preferred over regression for clearer business interpretation"
      ]
    },
    {
      "cell_type": "markdown",
      "metadata": {
        "id": "9uWZXH9LwoQg"
      },
      "source": [
        "---"
      ]
    },
    {
      "cell_type": "markdown",
      "metadata": {
        "id": "cqP-UeN-z3i2"
      },
      "source": [
        "# Change working directory"
      ]
    },
    {
      "cell_type": "markdown",
      "metadata": {},
      "source": [
        "* We are assuming you will store the notebooks in a subfolder, therefore when running the notebook in the editor, you will need to change the working directory"
      ]
    },
    {
      "cell_type": "markdown",
      "metadata": {
        "id": "aOGIGS-uz3i2"
      },
      "source": [
        "We need to change the working directory from its current folder to its parent folder\n",
        "* We access the current directory with os.getcwd()"
      ]
    },
    {
      "cell_type": "code",
      "execution_count": 1,
      "metadata": {
        "id": "wZfF_j-Bz3i4",
        "outputId": "66943449-1436-4c3d-85c7-b85f9f78349b"
      },
      "outputs": [
        {
          "data": {
            "text/plain": [
              "'c:\\\\HACK_2\\\\Team1_TMDb_Hackathon_2\\\\jupyter_notebooks'"
            ]
          },
          "execution_count": 1,
          "metadata": {},
          "output_type": "execute_result"
        }
      ],
      "source": [
        "import os\n",
        "current_dir = os.getcwd()\n",
        "current_dir"
      ]
    },
    {
      "cell_type": "markdown",
      "metadata": {
        "id": "9MWW8E7lz3i7"
      },
      "source": [
        "We want to make the parent of the current directory the new current directory\n",
        "* os.path.dirname() gets the parent directory\n",
        "* os.chir() defines the new current directory"
      ]
    },
    {
      "cell_type": "code",
      "execution_count": 2,
      "metadata": {
        "id": "TwHsQRWjz3i9",
        "outputId": "86849db3-cd2f-4cc5-ebb8-2d0caafa1a2c"
      },
      "outputs": [
        {
          "name": "stdout",
          "output_type": "stream",
          "text": [
            "You set a new current directory\n"
          ]
        }
      ],
      "source": [
        "os.chdir(os.path.dirname(current_dir))\n",
        "print(\"You set a new current directory\")"
      ]
    },
    {
      "cell_type": "markdown",
      "metadata": {
        "id": "M_xPk_Ijz3i-"
      },
      "source": [
        "Confirm the new current directory"
      ]
    },
    {
      "cell_type": "code",
      "execution_count": 3,
      "metadata": {
        "id": "vz3S-_kjz3jA",
        "outputId": "00b79ae4-75d0-4a96-d193-ac9ef9847ea2"
      },
      "outputs": [
        {
          "data": {
            "text/plain": [
              "'c:\\\\HACK_2\\\\Team1_TMDb_Hackathon_2'"
            ]
          },
          "execution_count": 3,
          "metadata": {},
          "output_type": "execute_result"
        }
      ],
      "source": [
        "current_dir = os.getcwd()\n",
        "current_dir"
      ]
    },
    {
      "cell_type": "markdown",
      "metadata": {
        "id": "-mavJ8DibrcQ"
      },
      "source": [
        "---\n",
        "# Section 1: Setup and Data Loading\n",
        "\n",
        "**1.1 Library Imports**\n",
        "\n",
        "Import all necessary libraries for data analysis, preprocessing, model building, and evaluation."
      ]
    },
    {
      "cell_type": "code",
      "execution_count": 4,
      "metadata": {},
      "outputs": [],
      "source": [
        "# Import necessary libraries\n",
        "import pandas as pd\n",
        "import numpy as np\n",
        "import matplotlib.pyplot as plt\n",
        "import seaborn as sns\n",
        "from sklearn.model_selection import train_test_split, cross_val_score\n",
        "from sklearn.preprocessing import StandardScaler, OneHotEncoder\n",
        "from sklearn.compose import ColumnTransformer\n",
        "from sklearn.pipeline import Pipeline\n",
        "from sklearn.impute import SimpleImputer\n",
        "from sklearn.linear_model import LogisticRegression\n",
        "from sklearn.metrics import accuracy_score, precision_score, recall_score, roc_auc_score, confusion_matrix, roc_curve, classification_report"
      ]
    },
    {
      "cell_type": "markdown",
      "metadata": {
        "id": "ZY3l0-AxO93d"
      },
      "source": [
        "---"
      ]
    },
    {
      "cell_type": "markdown",
      "metadata": {
        "id": "uFQo3ycuO-v6"
      },
      "source": [
        "**1.2 Load and Explore Data**\n",
        "\n",
        "Load the processed dataset and examine its structure, dimensions, and data types."
      ]
    },
    {
      "cell_type": "code",
      "execution_count": 5,
      "metadata": {},
      "outputs": [
        {
          "name": "stdout",
          "output_type": "stream",
          "text": [
            "Dataset loaded successfully from Data/PROCESSED/movies_ready_for_EDA.csv\n",
            "\n",
            "Dataset shape: (4803, 46)\n",
            "Rows: 4803, Columns: 46\n",
            "\n",
            "Column names and types:\n",
            "Budget                          int64\n",
            "Genres                         object\n",
            "Homepage                       object\n",
            "Id                              int64\n",
            "Keywords                       object\n",
            "Original_language              object\n",
            "Original_title                 object\n",
            "Overview                       object\n",
            "Popularity                    float64\n",
            "Production_companies           object\n",
            "Production_countries           object\n",
            "Release_date                   object\n",
            "Revenue                         int64\n",
            "Runtime                       float64\n",
            "Spoken_languages               object\n",
            "Status                         object\n",
            "Tagline                        object\n",
            "Title_x                        object\n",
            "Vote_average                  float64\n",
            "Vote_count                      int64\n",
            "Has_release_date                 bool\n",
            "Release_year                    int64\n",
            "Cast                           object\n",
            "Crew                           object\n",
            "Profit                        float64\n",
            "Missing_Status                 object\n",
            "Runtime_Flag                   object\n",
            "Has_homepage                    int64\n",
            "Has_overview                    int64\n",
            "Has_tagline                     int64\n",
            "ROI                           float64\n",
            "Log_budget                    float64\n",
            "Log_revenue                   float64\n",
            "Decade                        float64\n",
            "Runtime_bucket                 object\n",
            "Language_full                  object\n",
            "Primary_genre                  object\n",
            "Primary_production_country     object\n",
            "Primary_production_company     object\n",
            "Actor_list                     object\n",
            "Primary_actor                  object\n",
            "Co_starring_actor              object\n",
            "Avg_actor_frequency           float64\n",
            "Has_known_lead                  int64\n",
            "Lead_actor_recurrence_rate      int64\n",
            "Primary_actor_is_frequent       int64\n",
            "dtype: object\n",
            "\n",
            "First few rows:\n"
          ]
        },
        {
          "data": {
            "text/html": [
              "<div>\n",
              "<style scoped>\n",
              "    .dataframe tbody tr th:only-of-type {\n",
              "        vertical-align: middle;\n",
              "    }\n",
              "\n",
              "    .dataframe tbody tr th {\n",
              "        vertical-align: top;\n",
              "    }\n",
              "\n",
              "    .dataframe thead th {\n",
              "        text-align: right;\n",
              "    }\n",
              "</style>\n",
              "<table border=\"1\" class=\"dataframe\">\n",
              "  <thead>\n",
              "    <tr style=\"text-align: right;\">\n",
              "      <th></th>\n",
              "      <th>Budget</th>\n",
              "      <th>Genres</th>\n",
              "      <th>Homepage</th>\n",
              "      <th>Id</th>\n",
              "      <th>Keywords</th>\n",
              "      <th>Original_language</th>\n",
              "      <th>Original_title</th>\n",
              "      <th>Overview</th>\n",
              "      <th>Popularity</th>\n",
              "      <th>Production_companies</th>\n",
              "      <th>...</th>\n",
              "      <th>Primary_genre</th>\n",
              "      <th>Primary_production_country</th>\n",
              "      <th>Primary_production_company</th>\n",
              "      <th>Actor_list</th>\n",
              "      <th>Primary_actor</th>\n",
              "      <th>Co_starring_actor</th>\n",
              "      <th>Avg_actor_frequency</th>\n",
              "      <th>Has_known_lead</th>\n",
              "      <th>Lead_actor_recurrence_rate</th>\n",
              "      <th>Primary_actor_is_frequent</th>\n",
              "    </tr>\n",
              "  </thead>\n",
              "  <tbody>\n",
              "    <tr>\n",
              "      <th>0</th>\n",
              "      <td>237000000</td>\n",
              "      <td>[{\"id\": 28, \"name\": \"Action\"}, {\"id\": 12, \"nam...</td>\n",
              "      <td>http://www.avatarmovie.com/</td>\n",
              "      <td>19995</td>\n",
              "      <td>[{\"id\": 1463, \"name\": \"culture clash\"}, {\"id\":...</td>\n",
              "      <td>en</td>\n",
              "      <td>Avatar</td>\n",
              "      <td>In the 22nd century, a paraplegic Marine is di...</td>\n",
              "      <td>150.437577</td>\n",
              "      <td>[{\"name\": \"Ingenious Film Partners\", \"id\": 289...</td>\n",
              "      <td>...</td>\n",
              "      <td>Action</td>\n",
              "      <td>United States of America</td>\n",
              "      <td>Ingenious Film Partners</td>\n",
              "      <td>[]</td>\n",
              "      <td>Not_listed</td>\n",
              "      <td>Not_listed</td>\n",
              "      <td>0.000000</td>\n",
              "      <td>0</td>\n",
              "      <td>0</td>\n",
              "      <td>0</td>\n",
              "    </tr>\n",
              "    <tr>\n",
              "      <th>1</th>\n",
              "      <td>300000000</td>\n",
              "      <td>[{\"id\": 12, \"name\": \"Adventure\"}, {\"id\": 14, \"...</td>\n",
              "      <td>http://disney.go.com/disneypictures/pirates/</td>\n",
              "      <td>285</td>\n",
              "      <td>[{\"id\": 270, \"name\": \"ocean\"}, {\"id\": 726, \"na...</td>\n",
              "      <td>en</td>\n",
              "      <td>Pirates of the Caribbean: At World's End</td>\n",
              "      <td>Captain Barbossa, long believed to be dead, ha...</td>\n",
              "      <td>139.082615</td>\n",
              "      <td>[{\"name\": \"Walt Disney Pictures\", \"id\": 2}, {\"...</td>\n",
              "      <td>...</td>\n",
              "      <td>Adventure</td>\n",
              "      <td>United States of America</td>\n",
              "      <td>Walt Disney Pictures</td>\n",
              "      <td>[]</td>\n",
              "      <td>Not_listed</td>\n",
              "      <td>Not_listed</td>\n",
              "      <td>0.000000</td>\n",
              "      <td>0</td>\n",
              "      <td>0</td>\n",
              "      <td>0</td>\n",
              "    </tr>\n",
              "    <tr>\n",
              "      <th>2</th>\n",
              "      <td>245000000</td>\n",
              "      <td>[{\"id\": 28, \"name\": \"Action\"}, {\"id\": 12, \"nam...</td>\n",
              "      <td>http://www.sonypictures.com/movies/spectre/</td>\n",
              "      <td>206647</td>\n",
              "      <td>[{\"id\": 470, \"name\": \"spy\"}, {\"id\": 818, \"name...</td>\n",
              "      <td>en</td>\n",
              "      <td>Spectre</td>\n",
              "      <td>A cryptic message from Bond’s past sends him o...</td>\n",
              "      <td>107.376788</td>\n",
              "      <td>[{\"name\": \"Columbia Pictures\", \"id\": 5}, {\"nam...</td>\n",
              "      <td>...</td>\n",
              "      <td>Action</td>\n",
              "      <td>United Kingdom</td>\n",
              "      <td>Columbia Pictures</td>\n",
              "      <td>[]</td>\n",
              "      <td>Not_listed</td>\n",
              "      <td>Not_listed</td>\n",
              "      <td>0.000000</td>\n",
              "      <td>0</td>\n",
              "      <td>0</td>\n",
              "      <td>0</td>\n",
              "    </tr>\n",
              "    <tr>\n",
              "      <th>3</th>\n",
              "      <td>250000000</td>\n",
              "      <td>[{\"id\": 28, \"name\": \"Action\"}, {\"id\": 80, \"nam...</td>\n",
              "      <td>http://www.thedarkknightrises.com/</td>\n",
              "      <td>49026</td>\n",
              "      <td>[{\"id\": 849, \"name\": \"dc comics\"}, {\"id\": 853,...</td>\n",
              "      <td>en</td>\n",
              "      <td>The Dark Knight Rises</td>\n",
              "      <td>Following the death of District Attorney Harve...</td>\n",
              "      <td>112.312950</td>\n",
              "      <td>[{\"name\": \"Legendary Pictures\", \"id\": 923}, {\"...</td>\n",
              "      <td>...</td>\n",
              "      <td>Action</td>\n",
              "      <td>United States of America</td>\n",
              "      <td>Legendary Pictures</td>\n",
              "      <td>[]</td>\n",
              "      <td>Not_listed</td>\n",
              "      <td>Not_listed</td>\n",
              "      <td>0.000000</td>\n",
              "      <td>0</td>\n",
              "      <td>0</td>\n",
              "      <td>0</td>\n",
              "    </tr>\n",
              "    <tr>\n",
              "      <th>4</th>\n",
              "      <td>260000000</td>\n",
              "      <td>[{\"id\": 28, \"name\": \"Action\"}, {\"id\": 12, \"nam...</td>\n",
              "      <td>http://movies.disney.com/john-carter</td>\n",
              "      <td>49529</td>\n",
              "      <td>[{\"id\": 818, \"name\": \"based on novel\"}, {\"id\":...</td>\n",
              "      <td>en</td>\n",
              "      <td>John Carter</td>\n",
              "      <td>John Carter is a war-weary, former military ca...</td>\n",
              "      <td>43.926995</td>\n",
              "      <td>[{\"name\": \"Walt Disney Pictures\", \"id\": 2}]</td>\n",
              "      <td>...</td>\n",
              "      <td>Action</td>\n",
              "      <td>United States of America</td>\n",
              "      <td>Walt Disney Pictures</td>\n",
              "      <td>['Taylor Kitsch', 'Lynn Collins', 'Samantha Mo...</td>\n",
              "      <td>Taylor Kitsch</td>\n",
              "      <td>Lynn Collins</td>\n",
              "      <td>3.740741</td>\n",
              "      <td>1</td>\n",
              "      <td>1</td>\n",
              "      <td>0</td>\n",
              "    </tr>\n",
              "  </tbody>\n",
              "</table>\n",
              "<p>5 rows × 46 columns</p>\n",
              "</div>"
            ],
            "text/plain": [
              "      Budget                                             Genres  \\\n",
              "0  237000000  [{\"id\": 28, \"name\": \"Action\"}, {\"id\": 12, \"nam...   \n",
              "1  300000000  [{\"id\": 12, \"name\": \"Adventure\"}, {\"id\": 14, \"...   \n",
              "2  245000000  [{\"id\": 28, \"name\": \"Action\"}, {\"id\": 12, \"nam...   \n",
              "3  250000000  [{\"id\": 28, \"name\": \"Action\"}, {\"id\": 80, \"nam...   \n",
              "4  260000000  [{\"id\": 28, \"name\": \"Action\"}, {\"id\": 12, \"nam...   \n",
              "\n",
              "                                       Homepage      Id  \\\n",
              "0                   http://www.avatarmovie.com/   19995   \n",
              "1  http://disney.go.com/disneypictures/pirates/     285   \n",
              "2   http://www.sonypictures.com/movies/spectre/  206647   \n",
              "3            http://www.thedarkknightrises.com/   49026   \n",
              "4          http://movies.disney.com/john-carter   49529   \n",
              "\n",
              "                                            Keywords Original_language  \\\n",
              "0  [{\"id\": 1463, \"name\": \"culture clash\"}, {\"id\":...                en   \n",
              "1  [{\"id\": 270, \"name\": \"ocean\"}, {\"id\": 726, \"na...                en   \n",
              "2  [{\"id\": 470, \"name\": \"spy\"}, {\"id\": 818, \"name...                en   \n",
              "3  [{\"id\": 849, \"name\": \"dc comics\"}, {\"id\": 853,...                en   \n",
              "4  [{\"id\": 818, \"name\": \"based on novel\"}, {\"id\":...                en   \n",
              "\n",
              "                             Original_title  \\\n",
              "0                                    Avatar   \n",
              "1  Pirates of the Caribbean: At World's End   \n",
              "2                                   Spectre   \n",
              "3                     The Dark Knight Rises   \n",
              "4                               John Carter   \n",
              "\n",
              "                                            Overview  Popularity  \\\n",
              "0  In the 22nd century, a paraplegic Marine is di...  150.437577   \n",
              "1  Captain Barbossa, long believed to be dead, ha...  139.082615   \n",
              "2  A cryptic message from Bond’s past sends him o...  107.376788   \n",
              "3  Following the death of District Attorney Harve...  112.312950   \n",
              "4  John Carter is a war-weary, former military ca...   43.926995   \n",
              "\n",
              "                                Production_companies  ... Primary_genre  \\\n",
              "0  [{\"name\": \"Ingenious Film Partners\", \"id\": 289...  ...        Action   \n",
              "1  [{\"name\": \"Walt Disney Pictures\", \"id\": 2}, {\"...  ...     Adventure   \n",
              "2  [{\"name\": \"Columbia Pictures\", \"id\": 5}, {\"nam...  ...        Action   \n",
              "3  [{\"name\": \"Legendary Pictures\", \"id\": 923}, {\"...  ...        Action   \n",
              "4        [{\"name\": \"Walt Disney Pictures\", \"id\": 2}]  ...        Action   \n",
              "\n",
              "  Primary_production_country  Primary_production_company  \\\n",
              "0   United States of America     Ingenious Film Partners   \n",
              "1   United States of America        Walt Disney Pictures   \n",
              "2             United Kingdom           Columbia Pictures   \n",
              "3   United States of America          Legendary Pictures   \n",
              "4   United States of America        Walt Disney Pictures   \n",
              "\n",
              "                                          Actor_list  Primary_actor  \\\n",
              "0                                                 []     Not_listed   \n",
              "1                                                 []     Not_listed   \n",
              "2                                                 []     Not_listed   \n",
              "3                                                 []     Not_listed   \n",
              "4  ['Taylor Kitsch', 'Lynn Collins', 'Samantha Mo...  Taylor Kitsch   \n",
              "\n",
              "  Co_starring_actor Avg_actor_frequency Has_known_lead  \\\n",
              "0        Not_listed            0.000000              0   \n",
              "1        Not_listed            0.000000              0   \n",
              "2        Not_listed            0.000000              0   \n",
              "3        Not_listed            0.000000              0   \n",
              "4      Lynn Collins            3.740741              1   \n",
              "\n",
              "   Lead_actor_recurrence_rate  Primary_actor_is_frequent  \n",
              "0                           0                          0  \n",
              "1                           0                          0  \n",
              "2                           0                          0  \n",
              "3                           0                          0  \n",
              "4                           1                          0  \n",
              "\n",
              "[5 rows x 46 columns]"
            ]
          },
          "execution_count": 5,
          "metadata": {},
          "output_type": "execute_result"
        }
      ],
      "source": [
        "# Import OS\n",
        "import os\n",
        "\n",
        "# Check for file\n",
        "data_path = \"Data/PROCESSED/movies_ready_for_EDA.csv\"\n",
        "if os.path.exists(data_path):\n",
        "    df = pd.read_csv(data_path)\n",
        "    print(f\"Dataset loaded successfully from {data_path}\")\n",
        "else:\n",
        "    print(f\"File not found at {data_path}\")\n",
        "    print(\"Available files in Data/PROCESSED/:\")\n",
        "    if os.path.exists(\"Data/PROCESSED/\"):\n",
        "        print(os.listdir(\"Data/PROCESSED/\"))\n",
        "    else:\n",
        "        print(\"Data/PROCESSED/ directory does not exist\")\n",
        "\n",
        "# Print Dataset shape and info\n",
        "print(f\"\\nDataset shape: {df.shape}\")\n",
        "print(f\"Rows: {df.shape[0]}, Columns: {df.shape[1]}\")\n",
        "print(f\"\\nColumn names and types:\")\n",
        "print(df.dtypes)\n",
        "print(f\"\\nFirst few rows:\")\n",
        "df.head()"
      ]
    },
    {
      "cell_type": "markdown",
      "metadata": {},
      "source": [
        "# Section 2: Data Preparation for Classification Model\n",
        "\n",
        "**2.1 Create Target Variable**\n",
        "\n",
        "- Define \"High Performer\" as Revenue > median revenue\n",
        "- Create binary target: 1 = High Performer, 0 = Standard/Underperformer\n",
        "- Handle missing values in Revenue\n",
        "- Create target variable: High Performer\n",
        "- High Performer defined as Revenue > median revenue"
      ]
    },
    {
      "cell_type": "code",
      "execution_count": 6,
      "metadata": {},
      "outputs": [
        {
          "name": "stdout",
          "output_type": "stream",
          "text": [
            "Median Revenue: £19,170,001\n",
            "\n",
            "Revenue statistics:\n",
            "count    4.803000e+03\n",
            "mean     8.226064e+07\n",
            "std      1.628571e+08\n",
            "min      0.000000e+00\n",
            "25%      0.000000e+00\n",
            "50%      1.917000e+07\n",
            "75%      9.291719e+07\n",
            "max      2.787965e+09\n",
            "Name: Revenue, dtype: float64\n",
            "\n",
            "Target variable distribution:\n",
            "High_performer\n",
            "0    2402\n",
            "1    2401\n",
            "Name: count, dtype: int64\n",
            "\n",
            "Class balance:\n",
            "High_performer\n",
            "0    0.500104\n",
            "1    0.499896\n",
            "Name: proportion, dtype: float64\n",
            "\n",
            "Rows with Revenue data: 4803 (from 4803)\n"
          ]
        }
      ],
      "source": [
        "# Define feature types\n",
        "median_revenue = df['Revenue'].median()\n",
        "print(f\"Median Revenue: £{median_revenue:,.0f}\")\n",
        "print(f\"\\nRevenue statistics:\")\n",
        "print(df['Revenue'].describe())\n",
        "\n",
        "# Create binary target variable\n",
        "df['High_performer'] = (df['Revenue'] > median_revenue).astype(int)\n",
        "\n",
        "# Print target variable distribution and class balance\n",
        "print(f\"\\nTarget variable distribution:\")\n",
        "print(df['High_performer'].value_counts())\n",
        "print(f\"\\nClass balance:\")\n",
        "print(df['High_performer'].value_counts(normalize=True))\n",
        "\n",
        "# Remove rows with missing Revenue (cannot determine target)\n",
        "df_model = df.dropna(subset=['Revenue']).copy()\n",
        "print(f\"\\nRows with Revenue data: {len(df_model)} (from {len(df)})\")"
      ]
    },
    {
      "cell_type": "markdown",
      "metadata": {},
      "source": [
        "**2.2 Feature Selection and Preparation**\n",
        "- Select relevant features for model\n",
        "- Create binary Language feature (English vs Non-English)\n",
        "- Handle missing values appropriately"
      ]
    },
    {
      "cell_type": "code",
      "execution_count": 7,
      "metadata": {},
      "outputs": [
        {
          "name": "stdout",
          "output_type": "stream",
          "text": [
            "Language distribution:\n",
            "English films: 4505 (93.8%)\n",
            "Non-English films: 298 (6.2%)\n",
            "\n",
            "Numeric features: ['Budget', 'Runtime', 'Avg_actor_frequency', 'Has_known_lead', 'Lead_actor_recurrence_rate', 'Primary_actor_is_frequent']\n",
            "Categorical features: ['Primary_genre', 'Language_binary', 'Primary_production_country', 'Primary_production_company']\n",
            "\n",
            "Missing values in features:\n",
            "Budget                        0\n",
            "Runtime                       0\n",
            "Primary_genre                 0\n",
            "Language_binary               0\n",
            "Primary_production_country    0\n",
            "Primary_production_company    0\n",
            "Avg_actor_frequency           0\n",
            "Has_known_lead                0\n",
            "Lead_actor_recurrence_rate    0\n",
            "Primary_actor_is_frequent     0\n",
            "dtype: int64\n"
          ]
        }
      ],
      "source": [
        "# Feature selection and preparation\n",
        "# Select features for model input\n",
        "\n",
        "features_to_use = [\n",
        "    'Budget',\n",
        "    'Runtime',\n",
        "    'Primary_genre',\n",
        "    'Language_full',\n",
        "    'Primary_production_country',\n",
        "    'Primary_production_company',\n",
        "    'Avg_actor_frequency',\n",
        "    'Has_known_lead',\n",
        "    'Lead_actor_recurrence_rate',\n",
        "    'Primary_actor_is_frequent'\n",
        "]\n",
        "\n",
        "# Create binary Language feature (English vs Non-English)\n",
        "df_model['Language_binary'] = (df_model['Language_full'] == 'English').astype(int)\n",
        "print(\"Language distribution:\")\n",
        "print(f\"English films: {(df_model['Language_binary'] == 1).sum()} ({(df_model['Language_binary'] == 1).sum() / len(df_model) * 100:.1f}%)\")\n",
        "print(f\"Non-English films: {(df_model['Language_binary'] == 0).sum()} ({(df_model['Language_binary'] == 0).sum() / len(df_model) * 100:.1f}%)\")\n",
        "\n",
        "# Update features list to use binary Language\n",
        "features_to_use = [\n",
        "    'Budget',\n",
        "    'Runtime',\n",
        "    'Primary_genre',\n",
        "    'Language_binary',\n",
        "    'Primary_production_country',\n",
        "    'Primary_production_company',\n",
        "    'Avg_actor_frequency',\n",
        "    'Has_known_lead',\n",
        "    'Lead_actor_recurrence_rate',\n",
        "    'Primary_actor_is_frequent'\n",
        "]\n",
        "\n",
        "# Identify numeric and categorical features\n",
        "numeric_features = [\n",
        "    'Budget',\n",
        "    'Runtime',\n",
        "    'Avg_actor_frequency',\n",
        "    'Has_known_lead',\n",
        "    'Lead_actor_recurrence_rate',\n",
        "    'Primary_actor_is_frequent'\n",
        "]\n",
        "\n",
        "categorical_features = [\n",
        "    'Primary_genre',\n",
        "    'Language_binary',\n",
        "    'Primary_production_country',\n",
        "    'Primary_production_company'\n",
        "]\n",
        "\n",
        "# Print feature types\n",
        "print(f\"\\nNumeric features: {numeric_features}\")\n",
        "print(f\"Categorical features: {categorical_features}\")\n",
        "\n",
        "# Check for missing values\n",
        "print(f\"\\nMissing values in features:\")\n",
        "print(df_model[features_to_use].isnull().sum())"
      ]
    },
    {
      "cell_type": "markdown",
      "metadata": {},
      "source": [
        "---\n",
        "\n",
        "# Section 3: Build Preprocessing Pipeline\n",
        "\n",
        "**3.1 Pipeline Components**\n",
        "\n",
        "- Imputation: Handle missing values with mean/most frequent\n",
        "- Encoding: One-hot encode categorical features\n",
        "- Scaling: Standardise numeric features\n",
        "- Model: Logistic Regression classifier"
      ]
    },
    {
      "cell_type": "markdown",
      "metadata": {},
      "source": [
        "**3.2 Build Preprocessing and Model Pipeline**\n",
        "\n",
        "- Numeric transformer: SimpleImputer (mean) + StandardScaler\n",
        "- Categorical transformer: SimpleImputer (most_frequent) + OneHotEncoder\n",
        "- Combine with ColumnTransformer\n",
        "- Add Logistic Regression classifier"
      ]
    },
    {
      "cell_type": "code",
      "execution_count": 8,
      "metadata": {},
      "outputs": [
        {
          "name": "stdout",
          "output_type": "stream",
          "text": [
            "Pipeline created successfully\n",
            "\n",
            "Pipeline steps:\n",
            "  preprocessor: ColumnTransformer\n",
            "  classifier: LogisticRegression\n"
          ]
        }
      ],
      "source": [
        "# Build preprocessing pipeline\n",
        "\n",
        "# Numeric pipeline: impute missing values, then scale\n",
        "numeric_transformer = Pipeline(steps=[\n",
        "    ('imputer', SimpleImputer(strategy='mean')),\n",
        "    ('scaler', StandardScaler())\n",
        "])\n",
        "\n",
        "# Categorical pipeline: impute missing values, then one-hot encode\n",
        "categorical_transformer = Pipeline(steps=[\n",
        "    ('imputer', SimpleImputer(strategy='most_frequent')),\n",
        "    ('onehot', OneHotEncoder(drop='if_binary', sparse_output=False, handle_unknown='ignore'))\n",
        "])\n",
        "\n",
        "# Combine preprocessing steps\n",
        "preprocessor = ColumnTransformer(\n",
        "    transformers=[\n",
        "        ('num', numeric_transformer, numeric_features),\n",
        "        ('cat', categorical_transformer, categorical_features)\n",
        "    ])\n",
        "\n",
        "# Create full pipeline with model\n",
        "ml_pipeline = Pipeline(steps=[\n",
        "    ('preprocessor', preprocessor),\n",
        "    ('classifier', LogisticRegression(random_state=42, max_iter=1000))\n",
        "])\n",
        "\n",
        "# Confirm pipeline creation\n",
        "print(\"Pipeline created successfully\")\n",
        "print(f\"\\nPipeline steps:\")\n",
        "for step_name, step in ml_pipeline.steps:\n",
        "    print(f\"  {step_name}: {type(step).__name__}\")"
      ]
    },
    {
      "cell_type": "markdown",
      "metadata": {},
      "source": [
        "---\n",
        "\n",
        "# Section 4: Train and Evaluate Model\n",
        "\n",
        "## Overview\n",
        "\n",
        "Goal: divide the dataset into two stratified subsets for model development, evaluate the Logistic Regression classification pipeline, ensuring including proper data splitting, cross-validation, and  performance evaluation.\n",
        "\n",
        "##  Approach\n",
        "\n",
        "The notebook uses an 80/20 split:\n",
        "- Training set (80%): Used to fit the model and learn patterns\n",
        "- Test set (20%): Reserved entirely for unbiased performance evaluation\n",
        "\n",
        "**Train/Test Split Rationale**\n",
        "\n",
        "Splitting data into training and test sets prevents overfitting and provides honest performance estimates. The model must never see test data during training, otherwise reported metrics would be misleading and the model would likely perform worse on truly new data in production.\n",
        "\n",
        "This split reserves sufficient data for reliable testing whilst maximising training data to help the model learn robust patterns.\n",
        "\n",
        "**Stratification Requirement**\n",
        "\n",
        "The split uses stratification, which maintains the class balance from the original dataset in both train and test sets (key as the original data has roughly equal High Performer and Standard films). Stratification ensures both sets have the same proportions, preventing skewed evaluation if one set happened to contain predominantly one class.\n",
        "\n",
        "This split reserves sufficient data for reliable testing whilst maximising training data to help the model learn robust patterns.\n",
        "\n",
        "**Cross-Validation for Robustness**\n",
        "\n",
        "Five-fold cross-validation further validates model stability. This technique:\n",
        "- Divides training data into five equal parts (folds)\n",
        "- Trains five separate models, each using four folds for training and one fold for validation\n",
        "- Averages results across all five runs to get robust performance estimates\n",
        "- Reports standard deviation to show consistency across runs\n",
        "\n",
        "Cross-validation helps identify whether the model performs reliably or whether performance varies dramatically depending on which data subset is used. Low standard deviation indicates consistent, reliable performance.\n",
        "\n",
        "**Note on 5 fold testing** 5 fold was opted over 3 fold given dataset is moderate size (46MB) and 5 fold being within resource limits to achieve stable estimate"
      ]
    },
    {
      "cell_type": "markdown",
      "metadata": {},
      "source": [
        "**4.1 Prepare Features and Train/Test Split**"
      ]
    },
    {
      "cell_type": "code",
      "execution_count": 9,
      "metadata": {},
      "outputs": [
        {
          "name": "stdout",
          "output_type": "stream",
          "text": [
            "Feature matrix shape: (4803, 10)\n",
            "Target variable shape: (4803,)\n",
            "\n",
            "Training set size: 3842\n",
            "Test set size: 961\n",
            "\n",
            "Training set class distribution:\n",
            "High_performer\n",
            "1    0.5\n",
            "0    0.5\n",
            "Name: proportion, dtype: float64\n",
            "\n",
            "Test set class distribution:\n",
            "High_performer\n",
            "0    0.50052\n",
            "1    0.49948\n",
            "Name: proportion, dtype: float64\n"
          ]
        }
      ],
      "source": [
        "# Prepare X (features) and y (target)\n",
        "X = df_model[features_to_use].copy()\n",
        "y = df_model['High_performer'].copy()\n",
        "\n",
        "print(f\"Feature matrix shape: {X.shape}\")\n",
        "print(f\"Target variable shape: {y.shape}\")\n",
        "\n",
        "# Train/test split with stratification\n",
        "X_train, X_test, y_train, y_test = train_test_split(\n",
        "    X, y,\n",
        "    test_size=0.2,\n",
        "    random_state=42,\n",
        "    stratify=y\n",
        ")\n",
        "\n",
        "print(f\"\\nTraining set size: {len(X_train)}\")\n",
        "print(f\"Test set size: {len(X_test)}\")\n",
        "print(f\"\\nTraining set class distribution:\")\n",
        "print(y_train.value_counts(normalize=True))\n",
        "print(f\"\\nTest set class distribution:\")\n",
        "print(y_test.value_counts(normalize=True))"
      ]
    },
    {
      "cell_type": "markdown",
      "metadata": {},
      "source": [
        "**4.2 Model Training with Cross-Validation**\n",
        "\n",
        "- Train Logistic Regression model on training data\n",
        "- Evaluate using 5-fold cross-validation\n",
        "- Generate performance metrics (accuracy, precision, recall, ROC-AUC)"
      ]
    },
    {
      "cell_type": "code",
      "execution_count": 10,
      "metadata": {},
      "outputs": [
        {
          "name": "stdout",
          "output_type": "stream",
          "text": [
            "Training model...\n",
            "Model training complete\n"
          ]
        },
        {
          "name": "stderr",
          "output_type": "stream",
          "text": [
            "c:\\Users\\JayneLawley\\AppData\\Local\\Programs\\Python\\Python312\\Lib\\site-packages\\sklearn\\preprocessing\\_encoders.py:228: UserWarning: Found unknown categories in columns [2, 3] during transform. These unknown categories will be encoded as all zeros\n",
            "  warnings.warn(\n",
            "c:\\Users\\JayneLawley\\AppData\\Local\\Programs\\Python\\Python312\\Lib\\site-packages\\sklearn\\preprocessing\\_encoders.py:228: UserWarning: Found unknown categories in columns [2, 3] during transform. These unknown categories will be encoded as all zeros\n",
            "  warnings.warn(\n",
            "c:\\Users\\JayneLawley\\AppData\\Local\\Programs\\Python\\Python312\\Lib\\site-packages\\sklearn\\preprocessing\\_encoders.py:228: UserWarning: Found unknown categories in columns [2, 3] during transform. These unknown categories will be encoded as all zeros\n",
            "  warnings.warn(\n",
            "c:\\Users\\JayneLawley\\AppData\\Local\\Programs\\Python\\Python312\\Lib\\site-packages\\sklearn\\preprocessing\\_encoders.py:228: UserWarning: Found unknown categories in columns [2, 3] during transform. These unknown categories will be encoded as all zeros\n",
            "  warnings.warn(\n",
            "c:\\Users\\JayneLawley\\AppData\\Local\\Programs\\Python\\Python312\\Lib\\site-packages\\sklearn\\preprocessing\\_encoders.py:228: UserWarning: Found unknown categories in columns [2, 3] during transform. These unknown categories will be encoded as all zeros\n",
            "  warnings.warn(\n",
            "c:\\Users\\JayneLawley\\AppData\\Local\\Programs\\Python\\Python312\\Lib\\site-packages\\sklearn\\preprocessing\\_encoders.py:228: UserWarning: Found unknown categories in columns [2, 3] during transform. These unknown categories will be encoded as all zeros\n",
            "  warnings.warn(\n",
            "c:\\Users\\JayneLawley\\AppData\\Local\\Programs\\Python\\Python312\\Lib\\site-packages\\sklearn\\preprocessing\\_encoders.py:228: UserWarning: Found unknown categories in columns [2, 3] during transform. These unknown categories will be encoded as all zeros\n",
            "  warnings.warn(\n",
            "c:\\Users\\JayneLawley\\AppData\\Local\\Programs\\Python\\Python312\\Lib\\site-packages\\sklearn\\preprocessing\\_encoders.py:228: UserWarning: Found unknown categories in columns [2, 3] during transform. These unknown categories will be encoded as all zeros\n",
            "  warnings.warn(\n"
          ]
        },
        {
          "name": "stdout",
          "output_type": "stream",
          "text": [
            "\n",
            "Cross-Validation Results (5-fold):\n",
            "Accuracy: 0.8058 (+/- 0.0050)\n",
            "Precision: 0.8274 (+/- 0.0079)\n",
            "Recall: 0.7730 (+/- 0.0130)\n",
            "ROC-AUC: 0.8881 (+/- 0.0040)\n"
          ]
        },
        {
          "name": "stderr",
          "output_type": "stream",
          "text": [
            "c:\\Users\\JayneLawley\\AppData\\Local\\Programs\\Python\\Python312\\Lib\\site-packages\\sklearn\\preprocessing\\_encoders.py:228: UserWarning: Found unknown categories in columns [2, 3] during transform. These unknown categories will be encoded as all zeros\n",
            "  warnings.warn(\n",
            "c:\\Users\\JayneLawley\\AppData\\Local\\Programs\\Python\\Python312\\Lib\\site-packages\\sklearn\\preprocessing\\_encoders.py:228: UserWarning: Found unknown categories in columns [2, 3] during transform. These unknown categories will be encoded as all zeros\n",
            "  warnings.warn(\n"
          ]
        }
      ],
      "source": [
        "# Train the model\n",
        "print(\"Training model...\")\n",
        "ml_pipeline.fit(X_train, y_train)\n",
        "print(\"Model training complete\")\n",
        "\n",
        "# Cross-validation scores\n",
        "from sklearn.model_selection import cross_validate\n",
        "\n",
        "cv_results = cross_validate(\n",
        "    ml_pipeline, X_train, y_train,\n",
        "    cv=5,\n",
        "    scoring=['accuracy', 'precision', 'recall', 'roc_auc']\n",
        ")\n",
        "\n",
        "print(f\"\\nCross-Validation Results (5-fold):\")\n",
        "print(f\"Accuracy: {cv_results['test_accuracy'].mean():.4f} (+/- {cv_results['test_accuracy'].std():.4f})\")\n",
        "print(f\"Precision: {cv_results['test_precision'].mean():.4f} (+/- {cv_results['test_precision'].std():.4f})\")\n",
        "print(f\"Recall: {cv_results['test_recall'].mean():.4f} (+/- {cv_results['test_recall'].std():.4f})\")\n",
        "print(f\"ROC-AUC: {cv_results['test_roc_auc'].mean():.4f} (+/- {cv_results['test_roc_auc'].std():.4f})\")"
      ]
    },
    {
      "cell_type": "markdown",
      "metadata": {},
      "source": [
        "**4.3 Test Set Evaluation and Performance Metrics Explanation**\n",
        "\n",
        "Generate predictions on the test set and calculate comprehensive performance metrics. The metrics reported below provide different perspectives on model performance (the aim is for them to help identify strengths and weaknesses):\n",
        "- Accuracy represents the overall correctness of predictions across both classes. However, accuracy alone can be misleading if one class significantly outnumbers the other. In this case, with balanced classes, accuracy provides a reliable indicator of overall performance.\n",
        "- Precision answers the question: of all films the model predicts as High Performers, what proportion actually are High Performers? This metric is crucial for investment decisions. High precision (above 80 percent) means few false alarms, reducing wasted investment on mediocre projects.\n",
        "- Recall answers a different question: of all films that truly are High Performers, what proportion did the model correctly identify? This metric indicates how many opportunities the model catches. High recall means fewer missed opportunities for investment.\n",
        "- ROC-AUC measures the model's ability to rank films by success probability regardless of the classification threshold. An AUC value of 0.9 or higher indicates excellent discrimination between High Performers and Standard films.\n",
        "- The confusion matrix provides detailed counts of correct and incorrect predictions broken down by class. True Negatives represent correctly identified Standard films, while True Positives represent correctly identified High Performers. False Positives are Standard films incorrectly predicted as High Performers (costly mistakes), and False Negatives are High Performers missed by the model (missed opportunities).\n"
      ]
    },
    {
      "cell_type": "markdown",
      "metadata": {},
      "source": [
        "Next:\n",
        "- Generate predictions on test set\n",
        "- Calculate performance metrics (accuracy, precision, recall, ROC-AUC)\n",
        "- Produce confusion matrix and classification report"
      ]
    },
    {
      "cell_type": "code",
      "execution_count": 11,
      "metadata": {},
      "outputs": [
        {
          "name": "stdout",
          "output_type": "stream",
          "text": [
            "Test Set Performance:\n",
            "Accuracy: 0.8033\n",
            "Precision: 0.8345\n",
            "Recall: 0.7562\n",
            "ROC-AUC: 0.8977\n",
            "\n",
            "Confusion Matrix:\n",
            "[[409  72]\n",
            " [117 363]]\n",
            "\n",
            "True Negatives: 409\n",
            "False Positives: 72\n",
            "False Negatives: 117\n",
            "True Positives: 363\n",
            "\n",
            "Classification Report:\n",
            "                precision    recall  f1-score   support\n",
            "\n",
            "      Standard       0.78      0.85      0.81       481\n",
            "High Performer       0.83      0.76      0.79       480\n",
            "\n",
            "      accuracy                           0.80       961\n",
            "     macro avg       0.81      0.80      0.80       961\n",
            "  weighted avg       0.81      0.80      0.80       961\n",
            "\n"
          ]
        },
        {
          "name": "stderr",
          "output_type": "stream",
          "text": [
            "c:\\Users\\JayneLawley\\AppData\\Local\\Programs\\Python\\Python312\\Lib\\site-packages\\sklearn\\preprocessing\\_encoders.py:228: UserWarning: Found unknown categories in columns [0, 2, 3] during transform. These unknown categories will be encoded as all zeros\n",
            "  warnings.warn(\n",
            "c:\\Users\\JayneLawley\\AppData\\Local\\Programs\\Python\\Python312\\Lib\\site-packages\\sklearn\\preprocessing\\_encoders.py:228: UserWarning: Found unknown categories in columns [0, 2, 3] during transform. These unknown categories will be encoded as all zeros\n",
            "  warnings.warn(\n"
          ]
        }
      ],
      "source": [
        "# Generate predictions on test set\n",
        "\n",
        "y_pred = ml_pipeline.predict(X_test)\n",
        "y_pred_proba = ml_pipeline.predict_proba(X_test)[:, 1]\n",
        "\n",
        "# Calculate performance metrics (accuracy, precision, recall, ROC-AUC)\n",
        "accuracy = accuracy_score(y_test, y_pred)\n",
        "precision = precision_score(y_test, y_pred)\n",
        "recall = recall_score(y_test, y_pred)\n",
        "roc_auc = roc_auc_score(y_test, y_pred_proba)\n",
        "\n",
        "\n",
        "# Produce confusion matrix and classification report\n",
        "\n",
        "print(f\"Test Set Performance:\")\n",
        "print(f\"Accuracy: {accuracy:.4f}\")\n",
        "print(f\"Precision: {precision:.4f}\")\n",
        "print(f\"Recall: {recall:.4f}\")\n",
        "print(f\"ROC-AUC: {roc_auc:.4f}\")\n",
        "\n",
        "print(f\"\\nConfusion Matrix:\")\n",
        "cm = confusion_matrix(y_test, y_pred)\n",
        "print(cm)\n",
        "print(f\"\\nTrue Negatives: {cm[0, 0]}\")\n",
        "print(f\"False Positives: {cm[0, 1]}\")\n",
        "print(f\"False Negatives: {cm[1, 0]}\")\n",
        "print(f\"True Positives: {cm[1, 1]}\")\n",
        "\n",
        "print(f\"\\nClassification Report:\")\n",
        "print(classification_report(y_test, y_pred, target_names=['Standard', 'High Performer']))"
      ]
    },
    {
      "cell_type": "markdown",
      "metadata": {},
      "source": [
        "---\n",
        "\n",
        "# Section 5: Feature Importance Analysis\n",
        "\n",
        "**5.1 Extract and Visualise Feature Coefficients**\n",
        "\n",
        "- Extract coefficients from Logistic Regression model\n",
        "- Rank features by absolute coefficient magnitude\n",
        "- Visualise which features drive High Performer classification"
      ]
    },
    {
      "cell_type": "code",
      "execution_count": 12,
      "metadata": {},
      "outputs": [
        {
          "name": "stdout",
          "output_type": "stream",
          "text": [
            "Feature Importance (Top 15):\n",
            "                                                               Feature  Coefficient  Abs_Coefficient\n",
            "                                                           num__Budget     2.466909         2.466909\n",
            "                               cat__Primary_production_company_Unknown    -2.047138         2.047138\n",
            "                               cat__Primary_production_country_Unknown    -1.786650         1.786650\n",
            "                        cat__Primary_production_company_Rogue Pictures     1.516922         1.516922\n",
            "                    cat__Primary_production_company_Hollywood Pictures    -1.452960         1.452960\n",
            "               cat__Primary_production_company_Ingenious Film Partners    -1.343830         1.343830\n",
            "                      cat__Primary_production_company_Lions Gate Films     1.341170         1.341170\n",
            "               cat__Primary_production_company_Walt Disney Productions     1.306939         1.306939\n",
            "cat__Primary_production_company_Twentieth Century Fox Film Corporation     1.229205         1.229205\n",
            "                             cat__Primary_production_company_Lucasfilm     1.222823         1.222823\n",
            "                             cat__Primary_production_company_MTV Films     1.217182         1.217182\n",
            "                     cat__Primary_production_company_Studio Babelsberg     1.207757         1.207757\n",
            "                      cat__Primary_production_company_Rainforest Films     1.201389         1.201389\n",
            "                     cat__Primary_production_company_Punch Productions    -1.186686         1.186686\n",
            "                  cat__Primary_production_company_Amblin Entertainment     1.183196         1.183196\n"
          ]
        },
        {
          "data": {
            "image/png": "[encoded data removed]",
            "text/plain": [
              "<Figure size 1000x600 with 1 Axes>"
            ]
          },
          "metadata": {},
          "output_type": "display_data"
        },
        {
          "name": "stdout",
          "output_type": "stream",
          "text": [
            "\n",
            "Feature interpretation:\n",
            "Positive coefficient: Feature increases probability of High Performer\n",
            "Negative coefficient: Feature decreases probability of High Performer\n"
          ]
        }
      ],
      "source": [
        "# Extract feature importance from model coefficients\n",
        "classifier = ml_pipeline.named_steps['classifier']\n",
        "feature_names = (ml_pipeline.named_steps['preprocessor']\n",
        "                 .get_feature_names_out(features_to_use))\n",
        "\n",
        "coefficients = classifier.coef_[0]\n",
        "feature_importance = pd.DataFrame({\n",
        "    'Feature': feature_names,\n",
        "    'Coefficient': coefficients,\n",
        "    'Abs_Coefficient': np.abs(coefficients)\n",
        "}).sort_values('Abs_Coefficient', ascending=False)\n",
        "\n",
        "print(\"Feature Importance (Top 15):\")\n",
        "print(feature_importance.head(15).to_string(index=False))\n",
        "\n",
        "# Visualise top features\n",
        "fig, ax = plt.subplots(figsize=(10, 6))\n",
        "top_features = feature_importance.head(15)\n",
        "colours = ['green' if x > 0 else 'red' for x in top_features['Coefficient']]\n",
        "ax.barh(range(len(top_features)), top_features['Coefficient'], color=colours, alpha=0.7)\n",
        "ax.set_yticks(range(len(top_features)))\n",
        "ax.set_yticklabels(top_features['Feature'], fontsize=9)\n",
        "ax.set_xlabel('Coefficient Value', fontweight='bold')\n",
        "ax.set_title('Top 15 Feature Importance (Logistic Regression)', fontsize=12, fontweight='bold')\n",
        "ax.axvline(x=0, color='black', linestyle='-', linewidth=0.5)\n",
        "ax.grid(axis='x', alpha=0.3)\n",
        "plt.tight_layout()\n",
        "plt.show()\n",
        "\n",
        "print(\"\\nFeature interpretation:\")\n",
        "print(\"Positive coefficient: Feature increases probability of High Performer\")\n",
        "print(\"Negative coefficient: Feature decreases probability of High Performer\")"
      ]
    },
    {
      "cell_type": "markdown",
      "metadata": {},
      "source": [
        "---\n",
        "\n",
        "# Section 6: Model Visualisations\n",
        "\n",
        "**6.1 Confusion Matrix and ROC Curve**\n",
        "\n",
        "- Visualise model performance through confusion matrix heatmap\n",
        "- Plot ROC curve showing trade-off between true positive and false positive rates\n",
        "- Display key performance indicators"
      ]
    },
    {
      "cell_type": "code",
      "execution_count": 13,
      "metadata": {},
      "outputs": [
        {
          "data": {
            "image/png": "[encoded data removed]",
            "text/plain": [
              "<Figure size 1400x500 with 3 Axes>"
            ]
          },
          "metadata": {},
          "output_type": "display_data"
        }
      ],
      "source": [
        "# Plot confusion matrix and ROC curve\n",
        "fig, axes = plt.subplots(1, 2, figsize=(14, 5))\n",
        "\n",
        "# Confusion Matrix\n",
        "ax = axes[0]\n",
        "sns.heatmap(cm, annot=True, fmt='d', cmap='Blues', ax=ax, \n",
        "            xticklabels=['Standard', 'High Performer'],\n",
        "            yticklabels=['Standard', 'High Performer'])\n",
        "ax.set_ylabel('Actual', fontweight='bold')\n",
        "ax.set_xlabel('Predicted', fontweight='bold')\n",
        "ax.set_title('Confusion Matrix', fontsize=12, fontweight='bold')\n",
        "\n",
        "# ROC Curve\n",
        "ax = axes[1]\n",
        "fpr, tpr, thresholds = roc_curve(y_test, y_pred_proba)\n",
        "ax.plot(fpr, tpr, label=f'ROC Curve (AUC = {roc_auc:.3f})', linewidth=2, color='steelblue')\n",
        "ax.plot([0, 1], [0, 1], 'k--', label='Random Classifier', linewidth=1)\n",
        "ax.set_xlabel('False Positive Rate', fontweight='bold')\n",
        "ax.set_ylabel('True Positive Rate', fontweight='bold')\n",
        "ax.set_title('ROC Curve', fontsize=12, fontweight='bold')\n",
        "ax.legend()\n",
        "ax.grid(alpha=0.3)\n",
        "\n",
        "plt.tight_layout()\n",
        "plt.show()"
      ]
    },
    {
      "cell_type": "markdown",
      "metadata": {},
      "source": [
        "---\n",
        "\n",
        "# Section 7: Generate Predictions and Risk Levels\n",
        "\n",
        "**7.1 Prediction Function and Risk Assignment**\n",
        "\n",
        "- Create function to assign risk levels based on success probability\n",
        "- Risk categories: Low (≥70%), Medium (40-70%), High (<40%)\n",
        "- Generate sample predictions with success probability scores"
      ]
    },
    {
      "cell_type": "code",
      "execution_count": 14,
      "metadata": {},
      "outputs": [
        {
          "name": "stdout",
          "output_type": "stream",
          "text": [
            "Sample Predictions (first 20 films):\n",
            " Actual_High_Performer  Predicted_High_Performer  Success_Probability Risk_Level\n",
            "                     0                         0                  0.2       High\n",
            "                     0                         0                  1.6       High\n",
            "                     1                         1                100.0        Low\n",
            "                     1                         0                 18.5       High\n",
            "                     0                         0                 16.2       High\n",
            "                     1                         0                 42.9     Medium\n",
            "                     1                         0                 36.3       High\n",
            "                     1                         1                 72.7        Low\n",
            "                     0                         0                 38.9       High\n",
            "                     1                         1                 99.2        Low\n",
            "                     0                         0                  6.1       High\n",
            "                     1                         1                 65.4     Medium\n",
            "                     0                         0                 19.1       High\n",
            "                     0                         0                 10.4       High\n",
            "                     0                         1                 56.8     Medium\n",
            "                     0                         0                 16.9       High\n",
            "                     1                         1                 99.5        Low\n",
            "                     0                         0                 24.5       High\n",
            "                     0                         0                  0.2       High\n",
            "                     1                         1                 72.0        Low\n",
            "\n",
            "Risk Level Distribution:\n",
            "Risk_Level\n",
            "High      468\n",
            "Low       301\n",
            "Medium    192\n",
            "Name: count, dtype: int64\n",
            "\n",
            "Risk Level Distribution (%):\n",
            "Risk_Level\n",
            "High      48.7\n",
            "Low       31.3\n",
            "Medium    20.0\n",
            "Name: proportion, dtype: float64\n",
            "\n",
            "Success Probability Statistics:\n",
            "Mean: 47.9%\n",
            "Median: 41.9%\n",
            "Min: 0.1%\n",
            "Max: 100.0%\n"
          ]
        }
      ],
      "source": [
        "# Function to assign risk level based on probability\n",
        "def assign_risk_level(probability):\n",
        "    if probability >= 0.70:\n",
        "        return 'Low'\n",
        "    elif probability >= 0.40:\n",
        "        return 'Medium'\n",
        "    else:\n",
        "        return 'High'\n",
        "\n",
        "# Create predictions dataframe\n",
        "predictions_df = pd.DataFrame({\n",
        "    'Actual_High_Performer': y_test.values,\n",
        "    'Predicted_High_Performer': y_pred,\n",
        "    'Success_Probability': (y_pred_proba * 100).round(1),\n",
        "    'Risk_Level': [assign_risk_level(p) for p in y_pred_proba]\n",
        "})\n",
        "\n",
        "print(\"Sample Predictions (first 20 films):\")\n",
        "print(predictions_df.head(20).to_string(index=False))\n",
        "\n",
        "# Risk level distribution\n",
        "print(f\"\\nRisk Level Distribution:\")\n",
        "print(predictions_df['Risk_Level'].value_counts())\n",
        "print(f\"\\nRisk Level Distribution (%):\")\n",
        "print((predictions_df['Risk_Level'].value_counts(normalize=True) * 100).round(1))\n",
        "\n",
        "# Success Probability statistics\n",
        "print(f\"\\nSuccess Probability Statistics:\")\n",
        "print(f\"Mean: {predictions_df['Success_Probability'].mean():.1f}%\")\n",
        "print(f\"Median: {predictions_df['Success_Probability'].median():.1f}%\")\n",
        "print(f\"Min: {predictions_df['Success_Probability'].min():.1f}%\")\n",
        "print(f\"Max: {predictions_df['Success_Probability'].max():.1f}%\")"
      ]
    },
    {
      "cell_type": "markdown",
      "metadata": {},
      "source": [
        "**7.2 Benchmarking: Comparative Analysis**\n",
        "\n",
        "- Calculate average success metrics for High Performers vs Standard films\n",
        "- Compare Revenue, ROI, Vote Average, and Budget\n",
        "- Provide comparison baseline for new film predictions"
      ]
    },
    {
      "cell_type": "code",
      "execution_count": 15,
      "metadata": {},
      "outputs": [
        {
          "name": "stdout",
          "output_type": "stream",
          "text": [
            "Benchmark Comparison: High Performer vs Standard Films\n",
            "\n",
            "======================================================================\n",
            "\n",
            "Revenue:\n",
            "  High Performers:  161,568,134.29\n",
            "  Standard Films:     2,986,160.29\n",
            "  Difference:       158,581,974.00 (+5310.6%)\n",
            "\n",
            "ROI:\n",
            "  High Performers:           13.77\n",
            "  Standard Films:         6,710.50\n",
            "  Difference:            -6,696.73 ( -99.8%)\n",
            "\n",
            "Vote_average:\n",
            "  High Performers:            6.36\n",
            "  Standard Films:             5.82\n",
            "  Difference:                 0.54 (  +9.2%)\n",
            "\n",
            "Budget:\n",
            "  High Performers:   49,652,938.03\n",
            "  Standard Films:     8,445,721.20\n",
            "  Difference:        41,207,216.83 (+487.9%)\n",
            "\n",
            "======================================================================\n",
            "\n",
            "Interpretation:\n",
            "Films classified as High Performers achieve substantially higher revenue,\n",
            "ROI, and ratings compared to Standard films. Use these benchmarks to\n",
            "evaluate new film projects against historical performance patterns.\n"
          ]
        }
      ],
      "source": [
        "# Benchmarking: Compare High Performer vs Standard films\n",
        "benchmark_data = df_model.copy()\n",
        "benchmark_data['High_performer'] = (benchmark_data['Revenue'] > median_revenue).astype(int)\n",
        "\n",
        "print(\"Benchmark Comparison: High Performer vs Standard Films\\n\")\n",
        "print(\"=\"*70)\n",
        "\n",
        "metrics_to_compare = ['Revenue', 'ROI', 'Vote_average', 'Budget']\n",
        "\n",
        "for metric in metrics_to_compare:\n",
        "    high_perf = benchmark_data[benchmark_data['High_performer'] == 1][metric].mean()\n",
        "    standard = benchmark_data[benchmark_data['High_performer'] == 0][metric].mean()\n",
        "    difference = high_perf - standard\n",
        "    pct_diff = (difference / standard * 100) if standard != 0 else 0\n",
        "    \n",
        "    print(f\"\\n{metric}:\")\n",
        "    print(f\"  High Performers: {high_perf:>15,.2f}\")\n",
        "    print(f\"  Standard Films:  {standard:>15,.2f}\")\n",
        "    print(f\"  Difference:      {difference:>15,.2f} ({pct_diff:>+6.1f}%)\")\n",
        "\n",
        "print(\"\\n\" + \"=\"*70)\n",
        "print(\"\\nInterpretation:\")\n",
        "print(\"Films classified as High Performers achieve substantially higher revenue,\")\n",
        "print(\"ROI, and ratings compared to Standard films. Use these benchmarks to\")\n",
        "print(\"evaluate new film projects against historical performance patterns.\")"
      ]
    },
    {
      "cell_type": "markdown",
      "metadata": {},
      "source": [
        "**Print rports**"
      ]
    },
    {
      "cell_type": "code",
      "execution_count": 16,
      "metadata": {},
      "outputs": [
        {
          "name": "stdout",
          "output_type": "stream",
          "text": [
            "Exported: reports/model_predictions_JL.csv\n",
            "Exported: reports/model_metrics_JL.csv\n",
            "Exported: reports/feature_importance_JL.csv\n",
            "Exported: reports/benchmark_comparison_JL.csv\n",
            "\n",
            "All reports successfully saved to 'reports/' folder\n"
          ]
        }
      ],
      "source": [
        "# Create reports folder if it doesn't exist\n",
        "reports_folder = 'reports'\n",
        "if not os.path.exists(reports_folder):\n",
        "    os.makedirs(reports_folder)\n",
        "    print(f\"Created '{reports_folder}' folder\")\n",
        "\n",
        "# Export predictions \n",
        "predictions_df.to_csv(f'{reports_folder}/model_predictions_JL.csv', index=False)\n",
        "print(f\"Exported: {reports_folder}/model_predictions_JL.csv\")\n",
        "\n",
        "# Export model performance\n",
        "performance_metrics = {\n",
        "    'Accuracy': accuracy,\n",
        "    'Precision': precision,\n",
        "    'Recall': recall,\n",
        "    'ROC-AUC': roc_auc\n",
        "}\n",
        "pd.Series(performance_metrics).to_csv(f'{reports_folder}/model_metrics_JL.csv')\n",
        "print(f\"Exported: {reports_folder}/model_metrics_JL.csv\")\n",
        "\n",
        "# Export feature importance\n",
        "feature_importance.to_csv(f'{reports_folder}/feature_importance_JL.csv', index=False)\n",
        "print(f\"Exported: {reports_folder}/feature_importance_JL.csv\")\n",
        "\n",
        "# Export benchmark comparison\n",
        "benchmark_comparison = benchmark_data.groupby('High_performer')[['Revenue', 'ROI', 'Vote_average', 'Budget']].mean()\n",
        "benchmark_comparison.to_csv(f'{reports_folder}/benchmark_comparison_JL.csv')\n",
        "print(f\"Exported: {reports_folder}/benchmark_comparison_JL.csv\")\n",
        "\n",
        "print(f\"\\nAll reports successfully saved to '{reports_folder}/' folder\")"
      ]
    },
    {
      "cell_type": "markdown",
      "metadata": {},
      "source": [
        "---\n",
        "\n",
        "# Section 8: Summary and Conclusions\n",
        "\n",
        "## Model Summary\n",
        "\n",
        "The Logistic Regression classification pipeline was trained and evaluated with the following results:\n",
        "\n",
        "- **Cross-validated accuracy**: Indicates reliable model generalisation across different data samples\n",
        "- **Feature importance analysis**: Reveals which production attributes most strongly influence commercial success\n",
        "- **Risk level categorisation**: Supports data-driven decision-making for new film projects\n",
        "- **Probability-based predictions**: Provides quantified confidence scores for business stakeholders\n",
        "\n",
        "## Key Findings\n",
        "\n",
        "The classification model effectively predicts \"High Performer\" status based on:\n",
        "1. **Budget allocation**: Financial investment impact on success\n",
        "2. **Production attributes**: Genre, language, country, and company factors\n",
        "3. **Team composition**: Actor frequency and known lead involvement\n",
        "4. **Film characteristics**: Runtime and audience reception metrics\n",
        "\n",
        "## Summary\n",
        "\n",
        "The model achieved strong results overall. For the median revenue target, accuracy was 80.33% and the ROC–AUC score of 0.8977 (demonstrating good discrimination between high and standard performers). Precision (0.83) and recall (0.76) were well-balanced, suggesting the model generalised well rather than overfitting to the training data. Feature importance highlighted budget as the strongest predictor of success, followed by specific production companies such as Walt Disney Productions, Lions Gate Films, and Twentieth Century Fox. These align with expectations: higher budgets and established studios correlate with greater commercial returns.\n",
        "\n",
        "Overall, the model performs well without signs of overfitting. It provides a reliable foundation for further optimisation, such as hyperparameter tuning or adjusting the decision threshold to balance precision and recall based on business needs.\n",
        "\n",
        "## Model Limitations\n",
        "\n",
        "- The model was trained on historical data; market conditions, audience behaviour, and industry trends may change over time.\n",
        "- The language feature was simplified to a binary form (English vs Non-English) due to a heavily skewed distribution.\n",
        "- The dataset contained substantial missing values, which may reduce accuracy and limit generalisability.\n",
        "- The median revenue threshold may shift over time due to inflation and evolving box office scales; recalibration would be required periodically.\n",
        "- The model assumes that past patterns will continue, but film performance is influenced by changing public tastes, cast popularity, and production strategies.\n",
        "\n",
        "## Next Steps\n",
        "\n",
        "- Visualisation and interpretation: Build an interactive Power BI dashboard to present model insights, feature impact in an accessible format for stakeholders."
      ]
    },
    {
      "cell_type": "markdown",
      "metadata": {},
      "source": [
        "---"
      ]
    }
  ],
  "metadata": {
    "accelerator": "GPU",
    "colab": {
      "name": "Data Practitioner Jupyter Notebook.ipynb",
      "provenance": [],
      "toc_visible": true
    },
    "kernelspec": {
      "display_name": "Python 3",
      "language": "python",
      "name": "python3"
    },
    "language_info": {
      "codemirror_mode": {
        "name": "ipython",
        "version": 3
      },
      "file_extension": ".py",
      "mimetype": "text/x-python",
      "name": "python",
      "nbconvert_exporter": "python",
      "pygments_lexer": "ipython3",
      "version": "3.12.8"
    },
    "orig_nbformat": 2
  },
  "nbformat": 4,
  "nbformat_minor": 2
}
