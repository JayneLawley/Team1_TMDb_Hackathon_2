{
 "cells": [
  {
   "cell_type": "markdown",
   "metadata": {
    "id": "0aStgWSO0E0E"
   },
   "source": [
    "# **Predictive Model**"
   ]
  },
  {
   "cell_type": "markdown",
   "metadata": {
    "id": "1eLEkw5O0ECa"
   },
   "source": [
    "## Objectives\n",
    "\n",
    "* Write your notebook objective here, for example, \"Fetch data from Kaggle and save as raw data\", or \"engineer features for modelling\"\n",
    "\n",
    "## Inputs\n",
    "\n",
    "* Write down which data or information you need to run the notebook \n",
    "\n",
    "## Outputs\n",
    "\n",
    "* Write here which files, code or artefacts you generate by the end of the notebook \n",
    "\n",
    "## Additional Comments\n",
    "\n",
    "* If you have any additional comments that don't fit in the previous bullets, please state them here. \n",
    "\n"
   ]
  },
  {
   "cell_type": "markdown",
   "metadata": {
    "id": "9uWZXH9LwoQg"
   },
   "source": [
    "---"
   ]
  },
  {
   "cell_type": "markdown",
   "metadata": {
    "id": "cqP-UeN-z3i2"
   },
   "source": [
    "# Change working directory"
   ]
  },
  {
   "cell_type": "markdown",
   "metadata": {},
   "source": [
    "* We are assuming you will store the notebooks in a subfolder, therefore when running the notebook in the editor, you will need to change the working directory"
   ]
  },
  {
   "cell_type": "markdown",
   "metadata": {
    "id": "aOGIGS-uz3i2"
   },
   "source": [
    "We need to change the working directory from its current folder to its parent folder\n",
    "* We access the current directory with os.getcwd()"
   ]
  },
  {
   "cell_type": "code",
   "execution_count": 1,
   "metadata": {
    "id": "wZfF_j-Bz3i4",
    "outputId": "66943449-1436-4c3d-85c7-b85f9f78349b"
   },
   "outputs": [
    {
     "data": {
      "text/plain": [
       "'c:\\\\Hamas\\\\AI\\\\AI_Projects\\\\Code_Institute_Projects\\\\hackathon2_team1\\\\Team1_TMDb_Hackathon_2\\\\jupyter_notebooks'"
      ]
     },
     "execution_count": 1,
     "metadata": {},
     "output_type": "execute_result"
    }
   ],
   "source": [
    "import os\n",
    "current_dir = os.getcwd()\n",
    "current_dir"
   ]
  },
  {
   "cell_type": "markdown",
   "metadata": {
    "id": "9MWW8E7lz3i7"
   },
   "source": [
    "We want to make the parent of the current directory the new current directory\n",
    "* os.path.dirname() gets the parent directory\n",
    "* os.chir() defines the new current directory"
   ]
  },
  {
   "cell_type": "code",
   "execution_count": 2,
   "metadata": {
    "id": "TwHsQRWjz3i9",
    "outputId": "86849db3-cd2f-4cc5-ebb8-2d0caafa1a2c"
   },
   "outputs": [
    {
     "name": "stdout",
     "output_type": "stream",
     "text": [
      "You set a new current directory\n"
     ]
    }
   ],
   "source": [
    "os.chdir(os.path.dirname(current_dir))\n",
    "print(\"You set a new current directory\")"
   ]
  },
  {
   "cell_type": "markdown",
   "metadata": {
    "id": "M_xPk_Ijz3i-"
   },
   "source": [
    "Confirm the new current directory"
   ]
  },
  {
   "cell_type": "code",
   "execution_count": 3,
   "metadata": {
    "id": "vz3S-_kjz3jA",
    "outputId": "00b79ae4-75d0-4a96-d193-ac9ef9847ea2"
   },
   "outputs": [
    {
     "data": {
      "text/plain": [
       "'c:\\\\Hamas\\\\AI\\\\AI_Projects\\\\Code_Institute_Projects\\\\hackathon2_team1\\\\Team1_TMDb_Hackathon_2'"
      ]
     },
     "execution_count": 3,
     "metadata": {},
     "output_type": "execute_result"
    }
   ],
   "source": [
    "current_dir = os.getcwd()\n",
    "current_dir"
   ]
  },
  {
   "cell_type": "markdown",
   "metadata": {
    "id": "ZY3l0-AxO93d"
   },
   "source": [
    "---"
   ]
  },
  {
   "cell_type": "code",
   "execution_count": 22,
   "metadata": {},
   "outputs": [],
   "source": [
    "import pandas as pd\n",
    "import numpy as np\n",
    "import joblib\n",
    "import warnings\n",
    "warnings.filterwarnings('ignore')\n",
    "\n",
    "from sklearn.model_selection import train_test_split, cross_val_score\n",
    "from sklearn.preprocessing import OneHotEncoder, StandardScaler\n",
    "from sklearn.compose import ColumnTransformer\n",
    "from sklearn.pipeline import Pipeline\n",
    "from sklearn.metrics import mean_squared_error, r2_score\n",
    "from sklearn.linear_model import LinearRegression\n",
    "from sklearn.ensemble import RandomForestRegressor\n",
    "from xgboost import XGBRegressor\n",
    "from sklearn.model_selection import GridSearchCV\n"
   ]
  },
  {
   "cell_type": "code",
   "execution_count": 23,
   "metadata": {},
   "outputs": [
    {
     "data": {
      "text/html": [
       "<div>\n",
       "<style scoped>\n",
       "    .dataframe tbody tr th:only-of-type {\n",
       "        vertical-align: middle;\n",
       "    }\n",
       "\n",
       "    .dataframe tbody tr th {\n",
       "        vertical-align: top;\n",
       "    }\n",
       "\n",
       "    .dataframe thead th {\n",
       "        text-align: right;\n",
       "    }\n",
       "</style>\n",
       "<table border=\"1\" class=\"dataframe\">\n",
       "  <thead>\n",
       "    <tr style=\"text-align: right;\">\n",
       "      <th></th>\n",
       "      <th>Budget</th>\n",
       "      <th>Genres</th>\n",
       "      <th>Homepage</th>\n",
       "      <th>Id</th>\n",
       "      <th>Keywords</th>\n",
       "      <th>Original_language</th>\n",
       "      <th>Original_title</th>\n",
       "      <th>Overview</th>\n",
       "      <th>Popularity</th>\n",
       "      <th>Production_companies</th>\n",
       "      <th>...</th>\n",
       "      <th>Has_tagline</th>\n",
       "      <th>ROI</th>\n",
       "      <th>Log_budget</th>\n",
       "      <th>Log_revenue</th>\n",
       "      <th>Decade</th>\n",
       "      <th>Runtime_bucket</th>\n",
       "      <th>Language_full</th>\n",
       "      <th>Primary_genre</th>\n",
       "      <th>Primary_production_country</th>\n",
       "      <th>Primary_production_company</th>\n",
       "    </tr>\n",
       "  </thead>\n",
       "  <tbody>\n",
       "    <tr>\n",
       "      <th>0</th>\n",
       "      <td>237000000</td>\n",
       "      <td>[{\"id\": 28, \"name\": \"Action\"}, {\"id\": 12, \"nam...</td>\n",
       "      <td>http://www.avatarmovie.com/</td>\n",
       "      <td>19995</td>\n",
       "      <td>[{\"id\": 1463, \"name\": \"culture clash\"}, {\"id\":...</td>\n",
       "      <td>en</td>\n",
       "      <td>Avatar</td>\n",
       "      <td>In the 22nd century, a paraplegic Marine is di...</td>\n",
       "      <td>150.437577</td>\n",
       "      <td>[{\"name\": \"Ingenious Film Partners\", \"id\": 289...</td>\n",
       "      <td>...</td>\n",
       "      <td>1</td>\n",
       "      <td>11.763566</td>\n",
       "      <td>19.283571</td>\n",
       "      <td>21.748578</td>\n",
       "      <td>2000.0</td>\n",
       "      <td>epic</td>\n",
       "      <td>English</td>\n",
       "      <td>Action</td>\n",
       "      <td>United States of America</td>\n",
       "      <td>Ingenious Film Partners</td>\n",
       "    </tr>\n",
       "    <tr>\n",
       "      <th>1</th>\n",
       "      <td>300000000</td>\n",
       "      <td>[{\"id\": 12, \"name\": \"Adventure\"}, {\"id\": 14, \"...</td>\n",
       "      <td>http://disney.go.com/disneypictures/pirates/</td>\n",
       "      <td>285</td>\n",
       "      <td>[{\"id\": 270, \"name\": \"ocean\"}, {\"id\": 726, \"na...</td>\n",
       "      <td>en</td>\n",
       "      <td>Pirates of the Caribbean: At World's End</td>\n",
       "      <td>Captain Barbossa, long believed to be dead, ha...</td>\n",
       "      <td>139.082615</td>\n",
       "      <td>[{\"name\": \"Walt Disney Pictures\", \"id\": 2}, {\"...</td>\n",
       "      <td>...</td>\n",
       "      <td>1</td>\n",
       "      <td>3.203333</td>\n",
       "      <td>19.519293</td>\n",
       "      <td>20.683485</td>\n",
       "      <td>2000.0</td>\n",
       "      <td>epic</td>\n",
       "      <td>English</td>\n",
       "      <td>Adventure</td>\n",
       "      <td>United States of America</td>\n",
       "      <td>Walt Disney Pictures</td>\n",
       "    </tr>\n",
       "    <tr>\n",
       "      <th>2</th>\n",
       "      <td>245000000</td>\n",
       "      <td>[{\"id\": 28, \"name\": \"Action\"}, {\"id\": 12, \"nam...</td>\n",
       "      <td>http://www.sonypictures.com/movies/spectre/</td>\n",
       "      <td>206647</td>\n",
       "      <td>[{\"id\": 470, \"name\": \"spy\"}, {\"id\": 818, \"name...</td>\n",
       "      <td>en</td>\n",
       "      <td>Spectre</td>\n",
       "      <td>A cryptic message from Bond’s past sends him o...</td>\n",
       "      <td>107.376788</td>\n",
       "      <td>[{\"name\": \"Columbia Pictures\", \"id\": 5}, {\"nam...</td>\n",
       "      <td>...</td>\n",
       "      <td>1</td>\n",
       "      <td>3.594590</td>\n",
       "      <td>19.316769</td>\n",
       "      <td>20.596199</td>\n",
       "      <td>2010.0</td>\n",
       "      <td>very_long</td>\n",
       "      <td>English</td>\n",
       "      <td>Action</td>\n",
       "      <td>United Kingdom</td>\n",
       "      <td>Columbia Pictures</td>\n",
       "    </tr>\n",
       "    <tr>\n",
       "      <th>3</th>\n",
       "      <td>250000000</td>\n",
       "      <td>[{\"id\": 28, \"name\": \"Action\"}, {\"id\": 80, \"nam...</td>\n",
       "      <td>http://www.thedarkknightrises.com/</td>\n",
       "      <td>49026</td>\n",
       "      <td>[{\"id\": 849, \"name\": \"dc comics\"}, {\"id\": 853,...</td>\n",
       "      <td>en</td>\n",
       "      <td>The Dark Knight Rises</td>\n",
       "      <td>Following the death of District Attorney Harve...</td>\n",
       "      <td>112.312950</td>\n",
       "      <td>[{\"name\": \"Legendary Pictures\", \"id\": 923}, {\"...</td>\n",
       "      <td>...</td>\n",
       "      <td>1</td>\n",
       "      <td>4.339756</td>\n",
       "      <td>19.336971</td>\n",
       "      <td>20.804790</td>\n",
       "      <td>2010.0</td>\n",
       "      <td>epic</td>\n",
       "      <td>English</td>\n",
       "      <td>Action</td>\n",
       "      <td>United States of America</td>\n",
       "      <td>Legendary Pictures</td>\n",
       "    </tr>\n",
       "    <tr>\n",
       "      <th>4</th>\n",
       "      <td>260000000</td>\n",
       "      <td>[{\"id\": 28, \"name\": \"Action\"}, {\"id\": 12, \"nam...</td>\n",
       "      <td>http://movies.disney.com/john-carter</td>\n",
       "      <td>49529</td>\n",
       "      <td>[{\"id\": 818, \"name\": \"based on novel\"}, {\"id\":...</td>\n",
       "      <td>en</td>\n",
       "      <td>John Carter</td>\n",
       "      <td>John Carter is a war-weary, former military ca...</td>\n",
       "      <td>43.926995</td>\n",
       "      <td>[{\"name\": \"Walt Disney Pictures\", \"id\": 2}]</td>\n",
       "      <td>...</td>\n",
       "      <td>1</td>\n",
       "      <td>1.092843</td>\n",
       "      <td>19.376192</td>\n",
       "      <td>19.464974</td>\n",
       "      <td>2010.0</td>\n",
       "      <td>very_long</td>\n",
       "      <td>English</td>\n",
       "      <td>Action</td>\n",
       "      <td>United States of America</td>\n",
       "      <td>Walt Disney Pictures</td>\n",
       "    </tr>\n",
       "  </tbody>\n",
       "</table>\n",
       "<p>5 rows × 39 columns</p>\n",
       "</div>"
      ],
      "text/plain": [
       "      Budget                                             Genres  \\\n",
       "0  237000000  [{\"id\": 28, \"name\": \"Action\"}, {\"id\": 12, \"nam...   \n",
       "1  300000000  [{\"id\": 12, \"name\": \"Adventure\"}, {\"id\": 14, \"...   \n",
       "2  245000000  [{\"id\": 28, \"name\": \"Action\"}, {\"id\": 12, \"nam...   \n",
       "3  250000000  [{\"id\": 28, \"name\": \"Action\"}, {\"id\": 80, \"nam...   \n",
       "4  260000000  [{\"id\": 28, \"name\": \"Action\"}, {\"id\": 12, \"nam...   \n",
       "\n",
       "                                       Homepage      Id  \\\n",
       "0                   http://www.avatarmovie.com/   19995   \n",
       "1  http://disney.go.com/disneypictures/pirates/     285   \n",
       "2   http://www.sonypictures.com/movies/spectre/  206647   \n",
       "3            http://www.thedarkknightrises.com/   49026   \n",
       "4          http://movies.disney.com/john-carter   49529   \n",
       "\n",
       "                                            Keywords Original_language  \\\n",
       "0  [{\"id\": 1463, \"name\": \"culture clash\"}, {\"id\":...                en   \n",
       "1  [{\"id\": 270, \"name\": \"ocean\"}, {\"id\": 726, \"na...                en   \n",
       "2  [{\"id\": 470, \"name\": \"spy\"}, {\"id\": 818, \"name...                en   \n",
       "3  [{\"id\": 849, \"name\": \"dc comics\"}, {\"id\": 853,...                en   \n",
       "4  [{\"id\": 818, \"name\": \"based on novel\"}, {\"id\":...                en   \n",
       "\n",
       "                             Original_title  \\\n",
       "0                                    Avatar   \n",
       "1  Pirates of the Caribbean: At World's End   \n",
       "2                                   Spectre   \n",
       "3                     The Dark Knight Rises   \n",
       "4                               John Carter   \n",
       "\n",
       "                                            Overview  Popularity  \\\n",
       "0  In the 22nd century, a paraplegic Marine is di...  150.437577   \n",
       "1  Captain Barbossa, long believed to be dead, ha...  139.082615   \n",
       "2  A cryptic message from Bond’s past sends him o...  107.376788   \n",
       "3  Following the death of District Attorney Harve...  112.312950   \n",
       "4  John Carter is a war-weary, former military ca...   43.926995   \n",
       "\n",
       "                                Production_companies  ... Has_tagline  \\\n",
       "0  [{\"name\": \"Ingenious Film Partners\", \"id\": 289...  ...           1   \n",
       "1  [{\"name\": \"Walt Disney Pictures\", \"id\": 2}, {\"...  ...           1   \n",
       "2  [{\"name\": \"Columbia Pictures\", \"id\": 5}, {\"nam...  ...           1   \n",
       "3  [{\"name\": \"Legendary Pictures\", \"id\": 923}, {\"...  ...           1   \n",
       "4        [{\"name\": \"Walt Disney Pictures\", \"id\": 2}]  ...           1   \n",
       "\n",
       "         ROI  Log_budget  Log_revenue  Decade Runtime_bucket Language_full  \\\n",
       "0  11.763566   19.283571    21.748578  2000.0           epic       English   \n",
       "1   3.203333   19.519293    20.683485  2000.0           epic       English   \n",
       "2   3.594590   19.316769    20.596199  2010.0      very_long       English   \n",
       "3   4.339756   19.336971    20.804790  2010.0           epic       English   \n",
       "4   1.092843   19.376192    19.464974  2010.0      very_long       English   \n",
       "\n",
       "  Primary_genre  Primary_production_country  Primary_production_company  \n",
       "0        Action    United States of America     Ingenious Film Partners  \n",
       "1     Adventure    United States of America        Walt Disney Pictures  \n",
       "2        Action              United Kingdom           Columbia Pictures  \n",
       "3        Action    United States of America          Legendary Pictures  \n",
       "4        Action    United States of America        Walt Disney Pictures  \n",
       "\n",
       "[5 rows x 39 columns]"
      ]
     },
     "execution_count": 23,
     "metadata": {},
     "output_type": "execute_result"
    }
   ],
   "source": [
    "df = pd.read_csv('Data/PROCESSED/movies_ready_for_EDA.csv')\n",
    "df.head()"
   ]
  },
  {
   "cell_type": "code",
   "execution_count": 24,
   "metadata": {},
   "outputs": [
    {
     "name": "stdout",
     "output_type": "stream",
     "text": [
      "Training samples: 3842, Test samples: 961\n"
     ]
    }
   ],
   "source": [
    "# Prepare features and target variable\n",
    "features = ['Budget', 'Genres', 'Language_full', 'Primary_production_country',\n",
    "            'Primary_production_company', 'Runtime']\n",
    "target = 'Revenue'\n",
    "\n",
    "X = df[features]\n",
    "y = df[target]\n",
    "\n",
    "# Train-test split\n",
    "X_train, X_test, y_train, y_test = train_test_split(\n",
    "    X, y, test_size=0.2, random_state=42\n",
    ")\n",
    "\n",
    "print(f\"Training samples: {len(X_train)}, Test samples: {len(X_test)}\")"
   ]
  },
  {
   "cell_type": "code",
   "execution_count": 25,
   "metadata": {},
   "outputs": [],
   "source": [
    "#Preprocessing Pipeline\n",
    "numeric_features = ['Budget', 'Runtime']\n",
    "categorical_features = ['Genres', 'Language_full', \n",
    "                        'Primary_production_country', 'Primary_production_company']\n",
    "\n",
    "numeric_transformer = Pipeline(steps=[\n",
    "    ('scaler', StandardScaler())\n",
    "])\n",
    "\n",
    "categorical_transformer = Pipeline(steps=[\n",
    "    ('encoder', OneHotEncoder(handle_unknown='ignore'))\n",
    "])\n",
    "\n",
    "preprocessor = ColumnTransformer(transformers=[\n",
    "    ('num', numeric_transformer, numeric_features),\n",
    "    ('cat', categorical_transformer, categorical_features)\n",
    "])"
   ]
  },
  {
   "cell_type": "code",
   "execution_count": 26,
   "metadata": {},
   "outputs": [
    {
     "name": "stdout",
     "output_type": "stream",
     "text": [
      "\n",
      "Linear Regression Results:\n",
      "R²: 0.494\n",
      "RMSE: 114842858.25\n",
      "\n",
      "Random Forest Results:\n",
      "R²: 0.618\n",
      "RMSE: 99742693.90\n",
      "\n",
      "XGBoost Results:\n",
      "R²: 0.651\n",
      "RMSE: 95314356.18\n"
     ]
    }
   ],
   "source": [
    "# Train Models\n",
    "models = {\n",
    "    \"Linear Regression\": LinearRegression(),\n",
    "    \"Random Forest\": RandomForestRegressor(\n",
    "        random_state=42, n_estimators=200, max_depth=15\n",
    "    ),\n",
    "    \"XGBoost\": XGBRegressor(\n",
    "        random_state=42, n_estimators=300, learning_rate=0.1, max_depth=8\n",
    "    )\n",
    "}\n",
    "\n",
    "results = {}\n",
    "\n",
    "for name, model in models.items():\n",
    "    pipe = Pipeline(steps=[('preprocessor', preprocessor),\n",
    "                           ('model', model)])\n",
    "    \n",
    "    pipe.fit(X_train, y_train)\n",
    "    y_pred = pipe.predict(X_test)\n",
    "    \n",
    "    r2 = r2_score(y_test, y_pred)\n",
    "    rmse = np.sqrt(mean_squared_error(y_test, y_pred))\n",
    "    \n",
    "    results[name] = {'R2': r2, 'RMSE': rmse}\n",
    "    \n",
    "    print(f\"\\n{name} Results:\")\n",
    "    print(f\"R²: {r2:.3f}\")\n",
    "    print(f\"RMSE: {rmse:.2f}\")"
   ]
  },
  {
   "cell_type": "code",
   "execution_count": 27,
   "metadata": {},
   "outputs": [
    {
     "name": "stdout",
     "output_type": "stream",
     "text": [
      "\n",
      "Model Comparison:\n",
      "                         R2          RMSE\n",
      "XGBoost            0.651202  9.531436e+07\n",
      "Random Forest      0.618038  9.974269e+07\n",
      "Linear Regression  0.493632  1.148429e+08\n",
      "\n",
      " Best Model: XGBoost\n"
     ]
    }
   ],
   "source": [
    "# Model Comparison\n",
    "results_df = pd.DataFrame(results).T.sort_values(by='R2', ascending=False)\n",
    "print(\"\\nModel Comparison:\")\n",
    "print(results_df)\n",
    "\n",
    "best_model_name = results_df.index[0]\n",
    "print(f\"\\n Best Model: {best_model_name}\")"
   ]
  },
  {
   "cell_type": "code",
   "execution_count": 28,
   "metadata": {},
   "outputs": [],
   "source": [
    "# Hyperparameter Tuning with GridSearchCV\n",
    "\n",
    "from sklearn.model_selection import GridSearchCV\n",
    "\n",
    "xgb_pipe = Pipeline(steps=[\n",
    "    ('preprocessor', preprocessor),\n",
    "    ('model', XGBRegressor(random_state=42))\n",
    "])\n",
    "\n",
    "# Parameter grid\n",
    "param_grid = {\n",
    "    'model__n_estimators': [200, 300, 400],\n",
    "    'model__max_depth': [6, 8, 10],\n",
    "    'model__learning_rate': [0.05, 0.1, 0.2],\n",
    "    'model__subsample': [0.8, 1.0],\n",
    "    'model__colsample_bytree': [0.8, 1.0]\n",
    "}\n"
   ]
  },
  {
   "cell_type": "code",
   "execution_count": 29,
   "metadata": {},
   "outputs": [
    {
     "name": "stdout",
     "output_type": "stream",
     "text": [
      "Fitting 5 folds for each of 108 candidates, totalling 540 fits\n",
      "\n",
      " Best Parameters Found:\n",
      "{'model__colsample_bytree': 0.8, 'model__learning_rate': 0.05, 'model__max_depth': 6, 'model__n_estimators': 200, 'model__subsample': 0.8}\n",
      "\n",
      "Best Cross-Validated R²: 0.5312\n",
      "\n",
      " Test Set Performance (Tuned XGBoost):\n",
      "R²: 0.670\n",
      "RMSE: 92764917.41\n"
     ]
    }
   ],
   "source": [
    "# Initialize GridSearchCV\n",
    "grid_search = GridSearchCV(\n",
    "    xgb_pipe,\n",
    "    param_grid,\n",
    "    cv=5,\n",
    "    n_jobs=-1,\n",
    "    scoring='r2',\n",
    "    verbose=2\n",
    ")\n",
    "\n",
    "grid_search.fit(X_train, y_train)\n",
    "\n",
    "# Best parameters and score\n",
    "print(\"\\n Best Parameters Found:\")\n",
    "print(grid_search.best_params_)\n",
    "\n",
    "print(f\"\\nBest Cross-Validated R²: {grid_search.best_score_:.4f}\")\n",
    "\n",
    "best_model = grid_search.best_estimator_\n",
    "y_pred = best_model.predict(X_test)\n",
    "\n",
    "r2 = r2_score(y_test, y_pred)\n",
    "rmse = np.sqrt(mean_squared_error(y_test, y_pred))\n",
    "\n",
    "print(\"\\n Test Set Performance (Tuned XGBoost):\")\n",
    "print(f\"R²: {r2:.3f}\")\n",
    "print(f\"RMSE: {rmse:.2f}\")"
   ]
  },
  {
   "cell_type": "code",
   "execution_count": 30,
   "metadata": {},
   "outputs": [
    {
     "name": "stdout",
     "output_type": "stream",
     "text": [
      "Training samples: 3842, Test samples: 961\n"
     ]
    }
   ],
   "source": [
    "df = pd.read_csv(\"Data/PROCESSED/movies_ready_for_EDA.csv\")\n",
    "\n",
    "# Now using Log_budget instead of Budget and Log_revenue instead of Revenue\n",
    "features = ['Log_budget', 'Genres', 'Language_full', \n",
    "            'Primary_production_country', 'Primary_production_company', 'Runtime']\n",
    "target = 'Log_revenue'\n",
    "\n",
    "X = df[features]\n",
    "y = df[target]\n",
    "\n",
    "# Train-test split\n",
    "X_train, X_test, y_train, y_test = train_test_split(\n",
    "    X, y, test_size=0.2, random_state=42\n",
    ")\n",
    "\n",
    "print(f\"Training samples: {len(X_train)}, Test samples: {len(X_test)}\")"
   ]
  },
  {
   "cell_type": "code",
   "execution_count": 31,
   "metadata": {},
   "outputs": [],
   "source": [
    "# Preprocessing \n",
    "numeric_features = ['Log_budget', 'Runtime']\n",
    "categorical_features = ['Genres', 'Language_full', \n",
    "                        'Primary_production_country', 'Primary_production_company']\n",
    "\n",
    "numeric_transformer = Pipeline(steps=[\n",
    "    ('scaler', StandardScaler())\n",
    "])\n",
    "\n",
    "categorical_transformer = Pipeline(steps=[\n",
    "    ('encoder', OneHotEncoder(handle_unknown='ignore'))\n",
    "])\n",
    "\n",
    "preprocessor = ColumnTransformer(transformers=[\n",
    "    ('num', numeric_transformer, numeric_features),\n",
    "    ('cat', categorical_transformer, categorical_features)\n",
    "])"
   ]
  },
  {
   "cell_type": "code",
   "execution_count": 32,
   "metadata": {},
   "outputs": [
    {
     "name": "stdout",
     "output_type": "stream",
     "text": [
      "Fitting 5 folds for each of 108 candidates, totalling 540 fits\n",
      "\n",
      "🔍 Best Parameters Found:\n",
      "{'model__colsample_bytree': 0.8, 'model__learning_rate': 0.05, 'model__max_depth': 6, 'model__n_estimators': 200, 'model__subsample': 1.0}\n",
      "Best CV R²: 0.5392\n"
     ]
    }
   ],
   "source": [
    "# Hyperparameter Tuning on log-transformed data\n",
    "\n",
    "from sklearn.model_selection import GridSearchCV\n",
    "from xgboost import XGBRegressor\n",
    "\n",
    "xgb_pipe = Pipeline(steps=[\n",
    "    ('preprocessor', preprocessor),\n",
    "    ('model', XGBRegressor(random_state=42))\n",
    "])\n",
    "\n",
    "param_grid = {\n",
    "    'model__n_estimators': [200, 300, 400],\n",
    "    'model__max_depth': [6, 8, 10],\n",
    "    'model__learning_rate': [0.05, 0.1, 0.2],\n",
    "    'model__subsample': [0.8, 1.0],\n",
    "    'model__colsample_bytree': [0.8, 1.0]\n",
    "}\n",
    "\n",
    "grid_search = GridSearchCV(\n",
    "    xgb_pipe,\n",
    "    param_grid,\n",
    "    cv=5,\n",
    "    n_jobs=-1,\n",
    "    scoring='r2',\n",
    "    verbose=2\n",
    ")\n",
    "\n",
    "grid_search.fit(X_train, y_train)\n",
    "\n",
    "print(\"\\n🔍 Best Parameters Found:\")\n",
    "print(grid_search.best_params_)\n",
    "print(f\"Best CV R²: {grid_search.best_score_:.4f}\")"
   ]
  },
  {
   "cell_type": "code",
   "execution_count": 33,
   "metadata": {},
   "outputs": [
    {
     "name": "stdout",
     "output_type": "stream",
     "text": [
      "\n",
      "📊 Log-Scale Evaluation:\n",
      "R² (log): 0.512\n",
      "RMSE (log): 5.778\n",
      "\n",
      "💰 Original Revenue Scale Evaluation:\n",
      "R²: 0.396\n",
      "RMSE: 125,478,252.69\n"
     ]
    }
   ],
   "source": [
    "\n",
    "best_model = grid_search.best_estimator_\n",
    "y_pred_log = best_model.predict(X_test)\n",
    "\n",
    "#Metrics in log scale\n",
    "r2_log = r2_score(y_test, y_pred_log)\n",
    "rmse_log = np.sqrt(mean_squared_error(y_test, y_pred_log))\n",
    "\n",
    "print(\"\\n📊 Log-Scale Evaluation:\")\n",
    "print(f\"R² (log): {r2_log:.3f}\")\n",
    "print(f\"RMSE (log): {rmse_log:.3f}\")\n",
    "\n",
    "# Convert back to original scale\n",
    "y_test_exp = np.expm1(y_test)\n",
    "y_pred_exp = np.expm1(y_pred_log)\n",
    "\n",
    "r2_real = r2_score(y_test_exp, y_pred_exp)\n",
    "rmse_real = np.sqrt(mean_squared_error(y_test_exp, y_pred_exp))\n",
    "\n",
    "print(\"\\n💰 Original Revenue Scale Evaluation:\")\n",
    "print(f\"R²: {r2_real:.3f}\")\n",
    "print(f\"RMSE: {rmse_real:,.2f}\")\n"
   ]
  },
  {
   "cell_type": "markdown",
   "metadata": {},
   "source": [
    "---"
   ]
  },
  {
   "cell_type": "markdown",
   "metadata": {},
   "source": [
    "NOTE"
   ]
  },
  {
   "cell_type": "markdown",
   "metadata": {},
   "source": [
    "* You may add as many sections as you want, as long as it supports your project workflow.\n",
    "* All notebook's cells should be run top-down (you can't create a dynamic wherein a given point you need to go back to a previous cell to execute some task, like go back to a previous cell and refresh a variable content)"
   ]
  },
  {
   "cell_type": "markdown",
   "metadata": {},
   "source": [
    "---"
   ]
  },
  {
   "cell_type": "markdown",
   "metadata": {
    "id": "ltNetd085qHf"
   },
   "source": [
    "# Push files to Repo"
   ]
  },
  {
   "cell_type": "markdown",
   "metadata": {},
   "source": [
    "* In cases where you don't need to push files to Repo, you may replace this section with \"Conclusions and Next Steps\" and state your conclusions and next steps."
   ]
  }
 ],
 "metadata": {
  "accelerator": "GPU",
  "colab": {
   "name": "Data Practitioner Jupyter Notebook.ipynb",
   "provenance": [],
   "toc_visible": true
  },
  "kernelspec": {
   "display_name": ".venv",
   "language": "python",
   "name": "python3"
  },
  "language_info": {
   "codemirror_mode": {
    "name": "ipython",
    "version": 3
   },
   "file_extension": ".py",
   "mimetype": "text/x-python",
   "name": "python",
   "nbconvert_exporter": "python",
   "pygments_lexer": "ipython3",
   "version": "3.12.8"
  },
  "orig_nbformat": 2
 },
 "nbformat": 4,
 "nbformat_minor": 2
}
